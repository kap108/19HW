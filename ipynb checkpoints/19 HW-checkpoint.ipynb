{
 "cells": [
  {
   "cell_type": "code",
   "execution_count": 2,
   "id": "01f59045-6713-4cfb-9a1f-ba6a8435879c",
   "metadata": {},
   "outputs": [
    {
     "name": "stdout",
     "output_type": "stream",
     "text": [
      "Requirement already satisfied: python-dotenv in c:\\users\\ak\\anaconda3\\envs\\ethereum\\lib\\site-packages (0.18.0)\n"
     ]
    }
   ],
   "source": [
    "!pip install python-dotenv"
   ]
  },
  {
   "cell_type": "code",
   "execution_count": 27,
   "id": "0c968d70-74d4-4fab-b06d-58fd3eb1de9e",
   "metadata": {},
   "outputs": [],
   "source": [
    "# Import dependencies\n",
    "import subprocess\n",
    "import json\n",
    "import os\n",
    "from dotenv import load_dotenv\n",
    "from web3 import Web3\n",
    "from bit import PrivateKeyTestnet\n",
    "from web3 import middleware,Account\n",
    "from web3.gas_strategies.time_based import medium_gas_price_strategy\n",
    "from web3.middleware import geth_poa_middleware\n",
    "from pprint import pprint"
   ]
  },
  {
   "cell_type": "code",
   "execution_count": 4,
   "id": "619e8821-0ae8-4309-a092-20dc7a6039df",
   "metadata": {},
   "outputs": [],
   "source": [
    "# Load and set environment variables\n",
    "load_dotenv()\n",
    "mnemonic=os.getenv(\"mnemonic\")"
   ]
  },
  {
   "cell_type": "code",
   "execution_count": 5,
   "id": "a3d06d9a-4558-473e-b56a-781b1e1a31ea",
   "metadata": {},
   "outputs": [],
   "source": [
    "# Import constants.py and necessary functions from bit and web3\n",
    "from constants import *"
   ]
  },
  {
   "cell_type": "code",
   "execution_count": 6,
   "id": "85764cca-7879-4f62-95d0-a6e8f4027a29",
   "metadata": {},
   "outputs": [
    {
     "name": "stdout",
     "output_type": "stream",
     "text": [
      "tuition dinosaur also good radio risk kangaroo car slogan nephew narrow tobacco case select result\n"
     ]
    }
   ],
   "source": [
    "print(os.getenv(\"mnemonic\"))"
   ]
  },
  {
   "cell_type": "code",
   "execution_count": 25,
   "id": "e6377718-37c1-4e08-a6d9-b02c904b39ee",
   "metadata": {},
   "outputs": [],
   "source": [
    "w3 = Web3(Web3.HTTPProvider('http://127.0.0.1:8545'))\n",
    "w3.middleware_onion.inject(geth_poa_middleware, layer=0)\n",
    "w3.eth.setGasPriceStrategy(medium_gas_price_strategy)"
   ]
  },
  {
   "cell_type": "code",
   "execution_count": 10,
   "id": "0708a9b0-cef3-4e06-a655-773e8b4fad03",
   "metadata": {},
   "outputs": [],
   "source": [
    "def derive_wallets(coin):\n",
    "    command =  f'php ./derive -g --mnemonic=\"{mnemonic}\" --cols=all --format=json --coin=\"{coin}\" --numderive=3'\n",
    "    #print (command)\n",
    "    p = subprocess.Popen(command, stdout=subprocess.PIPE, shell=True)\n",
    "    output, err = p.communicate()\n",
    "    p_status = p.wait()\n",
    "    #print(output)\n",
    "    return json.loads(output)"
   ]
  },
  {
   "cell_type": "code",
   "execution_count": 28,
   "id": "54faaccd-b949-41de-b389-1065db78dc91",
   "metadata": {},
   "outputs": [
    {
     "name": "stdout",
     "output_type": "stream",
     "text": [
      "{'btc-test': [{'address': 'n4QyT63Ys2DnNZonH9hSufFkvzv5M8Hr9j',\n",
      "               'index': 0,\n",
      "               'path': \"m/44'/1'/0'/0/0\",\n",
      "               'privkey': 'cVd41WfxcFihzb4hTnD2eQJ7oZAdb7fatB3RKwjCWwwtsbk283nH',\n",
      "               'pubkey': '02c9476417e33cd5d85e9e344714621cef25d902fcad107eb0584b419435cc789a',\n",
      "               'pubkeyhash': 'fb295cae172f9c7269dd72564d4bec9a2851a2f3',\n",
      "               'xprv': 'tprv8kn8w9FRSVYPaFyj7B7hR3npMJFswKLu2ZSbEqZgxRTbaG6hYsEDT1ChgTr1xpah4Ey4wMS3nQr7gPafiFugdSWVQr6XjuPSdzcY4RGQ1Kw',\n",
      "               'xpub': 'tpubDHUB5ZHfasE4Tj1WzpnHpTSvvKmp6eXobs3NXMbzNhFzQkMUBG3odVpZraVuBLicpy3BTx4o4v8Ygq9vBEVf2DVJAdPrTyHqjx3NdN5wv2R'},\n",
      "              {'address': 'mtTTcet1k2BHFFQqsoFNedxfYgwGH9ULNz',\n",
      "               'index': 1,\n",
      "               'path': \"m/44'/1'/0'/0/1\",\n",
      "               'privkey': 'cS14rNxqRfrQFa4CFecbdRrc2k41kXhrTwFsT8DzsXtuDJppXHjd',\n",
      "               'pubkey': '025558a54ba44e2d840e9e0b8168193113f64d6547619c85c608c027eaad80e6ec',\n",
      "               'pubkeyhash': '8df0726fdf0ddb6d6db94665d9b17239be3426a5',\n",
      "               'xprv': 'tprv8kn8w9FRSVYPd24Zr6qD6di8xqpsDMayqGzQ8gvVMqVwzzhQePHDARfT8HyD9vzdLspCSDn2ZAJfSuziA7ZNdk2SiZ9dcagvDk5oKtUV25f',\n",
      "               'xpub': 'tpubDHUB5ZHfasE4WV6MjkVoW3NFXsLoNgmtQabBRCxnn7JLqUxBGn6oLvHKJQZcNKUNvFyt8e4CtjKJCUqB6jU9xirhVuYXTPyVSBzn2cdM9mW'},\n",
      "              {'address': 'mg1BAfYsh6L6iVLKZBKJr4zrASiu7mfwdx',\n",
      "               'index': 2,\n",
      "               'path': \"m/44'/1'/0'/0/2\",\n",
      "               'privkey': 'cPGjgCjBCQtyUNu5ogt6dqjzzweHKG7wa8XFm4RnjsXEt63dhGum',\n",
      "               'pubkey': '02d72c6cf957fab596660a42b8cabb8430ea897185488ca3323a861b41681faea4',\n",
      "               'pubkeyhash': '05566477416a8d303d13980939e82a0bb6d68843',\n",
      "               'xprv': 'tprv8kn8w9FRSVYPfPCCFmE95Y6FbKxrR4XLkYPDJZgHQ8Nbpk1h52aMs6kT7uJz2eR2ebNtaP7SMUfnWvQ467P3FmhpiBApqnuWA1z1sUTnpJD',\n",
      "               'xpub': 'tpubDHUB5ZHfasE4YrDz9QtjUwkNAMUnaPiFKqyzb5iapQAzfEGThRPx3bNKJ3WS4y3e1THRBzFsRY3Bq59y77YwVvFyvcRzk4zfBoBYc5qPbDn'}],\n",
      " 'eth': [{'address': '0xbFf2378952Eb21AcCd65626C69F4e6709c4E66f7',\n",
      "          'index': 0,\n",
      "          'path': \"m/44'/60'/0'/0/0\",\n",
      "          'privkey': '0x95f217dcfd1d8899d739196215c73212fda67f93b64f20a180b887b315932a60',\n",
      "          'pubkey': '03d9695c1ea277b23da6671a0a6b27da7553b77c4c259147975cc77dcb2e623653',\n",
      "          'pubkeyhash': '1528dd41ca576b5ca53566249c6428c6e77f3240',\n",
      "          'xprv': 'xprvA2tJVb6Tzi6UVp5ZTuErkDVJ2oKuzFvDRt8s2phcr7YKopKCaF4TrhGzpiSHCNHNnhnnAhV4kCh8TMZRaSqUxnrpnfUEc9C5KUqUjWTY3UB',\n",
      "          'xpub': 'xpub6Fseu6dMq5emiJA2Zvms7MS2aqAQPie4o74TqD7EQT5JgceM7nNiQVbUg1vW97j77bXeYjhJDQ6sxLdtxeN4H2QnYnYFrUqNpRWjzUQy9bv'},\n",
      "         {'address': '0x7aBa1Ada1f337B2F7789886c38f7A0A55266843b',\n",
      "          'index': 1,\n",
      "          'path': \"m/44'/60'/0'/0/1\",\n",
      "          'privkey': '0xfab2ca337cc5ef742fe14676391eb4bdeb1d83d44249d85da25e40af65068ace',\n",
      "          'pubkey': '030d7fb82412e6589ef0d8e7621aea3b0e6b4ba8f4b523e722e8ab78a6199b34d2',\n",
      "          'pubkeyhash': '6061b0b114ba9a5bfdedae6e746b97a8b92a6df3',\n",
      "          'xprv': 'xprvA2tJVb6Tzi6UYyUSEkxYSk7YFtVwHpyneQRETG3QLP8fGq9bmH4GF3n8thsGYPaAheLyXYmi76akzonQfr57FocYsMbZ81FGtk4j1M2jg8w',\n",
      "          'xpub': 'xpub6Fseu6dMq5emmTYuLnVYot4GovLRhHhe1dLqFeT1tife9dUkJpNWnr6cjy3KDajUCbgXRe14k6uHfoEeWCtiQFUuFKVeFHBT5bg64hEFK9r'},\n",
      "         {'address': '0x44118Ec53fDeCc8d7d952A3c65a853AEaCc7C018',\n",
      "          'index': 2,\n",
      "          'path': \"m/44'/60'/0'/0/2\",\n",
      "          'privkey': '0xa348aacf009dc7b4ed440b6bfaf99c5526a0a6dcf72961cc73a896e71a720669',\n",
      "          'pubkey': '03512685a2318acf38081b07da8d0e0ebe1c812ca9a0585caa3d69e3f82d6d4fab',\n",
      "          'pubkeyhash': '840c45dd791ebeee33b6cce593411c7972d4ea3a',\n",
      "          'xprv': 'xprvA2tJVb6Tzi6Uaw6CE51WBzyAs579n24LZDRXzq3jW1GAAdnQKUf3JAtzYmyB7AvZ6KT8ZPGozGDuSR7psCsRtqJHCYbtRW5DHnz42Y7QtAB',\n",
      "          'xpub': 'xpub6Fseu6dMq5emoRAfL6YWZ8uuR6weBUnBvSM8oDTM4Lo93S7Ys1yHqyDUQ4KWjoKGVkegF9aAjtv9axny8mWUBtnrHCd7HV6gfSnoUJrxG63'}]}\n"
     ]
    }
   ],
   "source": [
    "# Create a dictionary object called coins to store the output from `derive_wallets`.\n",
    "coins = {\n",
    "    ETH: derive_wallets(coin=ETH),\n",
    "    BTCTEST: derive_wallets(coin=BTCTEST)\n",
    "}    \n",
    "pprint(coins)"
   ]
  },
  {
   "cell_type": "code",
   "execution_count": 16,
   "id": "3c8c1708-4109-4f4a-8759-1b474f2935de",
   "metadata": {},
   "outputs": [],
   "source": [
    "# Create a function called `priv_key_to_account` that converts privkey strings to account objects.\n",
    "def priv_key_to_account(coin, priv_key):\n",
    "    if coin ==ETH:\n",
    "        return Account.PrivateKeyToAccount(priv_key)\n",
    "    elif coin==BTCTEST:\n",
    "        return PrivateKeyTestnet(priv_key)"
   ]
  },
  {
   "cell_type": "code",
   "execution_count": 22,
   "id": "c9892852-824b-489d-a064-dd45ee59b31c",
   "metadata": {},
   "outputs": [],
   "source": [
    "# Create a function called `create_tx` that creates an unsigned transaction appropriate metadata.\n",
    "def create_tx(coin,account,to,amount):\n",
    "    if coin == ETH:\n",
    "        value = w3.toWei(amount, \"ether\") \n",
    "        gasEstimate = w3.eth.estimateGas({ \"to\": to, \"from\": account, \"amount\": value })\n",
    "        return {\n",
    "            \"to\": to,\n",
    "            \"from\": account,\n",
    "            \"value\": value,\n",
    "            \"gas\": gasEstimate,\n",
    "            \"gasPrice\": w3.eth.generateGasPrice(),\n",
    "            \"nonce\": w3.eth.getTransactionCount(account),\n",
    "            \"chainId\": w3.eth.chain_id\n",
    "        }\n",
    "    if coin == BTCTEST:\n",
    "        return PrivateKeyTestnet.prepare_transaction(account.address, [(to, amount, BTC)])"
   ]
  },
  {
   "cell_type": "code",
   "execution_count": 23,
   "id": "45ae8d11-d5db-4e6e-87e7-d7ea5ab9bf57",
   "metadata": {},
   "outputs": [],
   "source": [
    "# Create a function called `send_tx` that calls `create_tx`, signs and sends the transaction.\n",
    "def send_tx(coin,account,to,amount):\n",
    "    if coin == BTCTEST:\n",
    "        raw_tx = create_tx(coin,account,to,amount)\n",
    "        signed = account.sign_transaction(raw_tx)\n",
    "        return NetworkAPI.broadcast_tx_testnet(signed)\n",
    "    elif coin == ETH:\n",
    "        raw_tx = create_tx(coin,account,to,amount)\n",
    "        signed = account.signTransaction(raw_tx)\n",
    "        return w3.eth.sendRawTransaction(signed.rawTransaction)"
   ]
  }
 ],
 "metadata": {
  "kernelspec": {
   "display_name": "Python 3",
   "language": "python",
   "name": "python3"
  },
  "language_info": {
   "codemirror_mode": {
    "name": "ipython",
    "version": 3
   },
   "file_extension": ".py",
   "mimetype": "text/x-python",
   "name": "python",
   "nbconvert_exporter": "python",
   "pygments_lexer": "ipython3",
   "version": "3.7.10"
  }
 },
 "nbformat": 4,
 "nbformat_minor": 5
}
